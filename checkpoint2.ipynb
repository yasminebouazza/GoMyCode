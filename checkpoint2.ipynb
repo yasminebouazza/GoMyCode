{
 "cells": [
  {
   "cell_type": "code",
   "execution_count": 9,
   "metadata": {},
   "outputs": [
    {
     "name": "stdout",
     "output_type": "stream",
     "text": [
      "[2002, 2009, 2016, 2023, 2030, 2037, 2044, 2051, 2058, 2065, 2072, 2079, 2086, 2093, 2100, 2107, 2114, 2121, 2128, 2135, 2142, 2149, 2156, 2163, 2170, 2177, 2184, 2191, 2198, 2205, 2212, 2219, 2226, 2233, 2240, 2247, 2254, 2261, 2268, 2275, 2282, 2289, 2296, 2303, 2310, 2317, 2324, 2331, 2338, 2345, 2352, 2359, 2366, 2373, 2380, 2387, 2394, 2401, 2408, 2415, 2422, 2429, 2436, 2443, 2450, 2457, 2464, 2471, 2478, 2485, 2492, 2499, 2506, 2513, 2520, 2527, 2534, 2541, 2548, 2555, 2562, 2569, 2576, 2583, 2590, 2597, 2604, 2611, 2618, 2625, 2632, 2639, 2646, 2653, 2660, 2667, 2674, 2681, 2688, 2695, 2702, 2709, 2716, 2723, 2730, 2737, 2744, 2751, 2758, 2765, 2772, 2779, 2786, 2793, 2800, 2807, 2814, 2821, 2828, 2835, 2842, 2849, 2856, 2863, 2870, 2877, 2884, 2891, 2898, 2905, 2912, 2919, 2926, 2933, 2940, 2947, 2954, 2961, 2968, 2975, 2982, 2989, 2996, 3003, 3010, 3017, 3024, 3031, 3038, 3045, 3052, 3059, 3066, 3073, 3080, 3087, 3094, 3101, 3108, 3115, 3122, 3129, 3136, 3143, 3150, 3157, 3164, 3171, 3178, 3185, 3192, 3199]\n"
     ]
    }
   ],
   "source": [
    "#Question1\n",
    "list_out=[]\n",
    "for x in range(2000, 3200+1):\n",
    " if x%7==0:\n",
    "    list_out.append(x)\n",
    "print(list_out)\n"
   ]
  },
  {
   "cell_type": "code",
   "execution_count": 4,
   "metadata": {},
   "outputs": [
    {
     "name": "stdout",
     "output_type": "stream",
     "text": [
      "Entrez un nombre : 5\n",
      "5 ! =  120\n"
     ]
    }
   ],
   "source": [
    "#Question2\n",
    "nbr = int(input('Entrez un nombre : '))\n",
    "fact = 1\n",
    "for i in range(1, nbr+1):\n",
    "  fact = fact * i\n",
    "print (nbr,'! = ',fact)"
   ]
  },
  {
   "cell_type": "code",
   "execution_count": 43,
   "metadata": {},
   "outputs": [
    {
     "name": "stdout",
     "output_type": "stream",
     "text": [
      "Entrez un nombre : 6\n",
      "{1: 1, 2: 4, 3: 9, 4: 16, 5: 25, 6: 36}\n"
     ]
    }
   ],
   "source": [
    "#Question3\n",
    "MyDict={}\n",
    "n = int(input('Entrez un nombre : '))\n",
    "for i in range(1, n+1):\n",
    "   MyDict[i]=i*i\n",
    "print(MyDict)"
   ]
  },
  {
   "cell_type": "code",
   "execution_count": 27,
   "metadata": {},
   "outputs": [
    {
     "name": "stdout",
     "output_type": "stream",
     "text": [
      "Entrez une chaine : kitten\n",
      "Entrez un nombre : 0\n",
      "itten\n"
     ]
    }
   ],
   "source": [
    "#Question4\n",
    "ch1=\"\"\n",
    "ch2=\"\"\n",
    "ch = input('Entrez une chaine : ')\n",
    "n = int(input('Entrez un nombre : '))\n",
    "for i in range(0, n):\n",
    "    ch1=ch1+ch[i]\n",
    "for j in range(n+1, len(ch)):\n",
    "    ch2=ch2+ch[j]\n",
    "ch3=ch1+ch2\n",
    "print(ch3)"
   ]
  },
  {
   "cell_type": "code",
   "execution_count": 40,
   "metadata": {},
   "outputs": [
    {
     "name": "stdout",
     "output_type": "stream",
     "text": [
      "[[0 1]\n",
      " [2 3]\n",
      " [4 5]]\n",
      "[[0, 1], [2, 3], [4, 5]]\n"
     ]
    }
   ],
   "source": [
    "#Question5\n",
    "import numpy as np\n",
    "tab=np.array([[0,1],[2,3],[4,5]])\n",
    "print(tab)\n",
    "list1=tab.tolist()\n",
    "print(list1)\n"
   ]
  },
  {
   "cell_type": "code",
   "execution_count": 42,
   "metadata": {},
   "outputs": [
    {
     "name": "stdout",
     "output_type": "stream",
     "text": [
      "[[ 1. -1.]\n",
      " [-1.  1.]]\n"
     ]
    }
   ],
   "source": [
    "#Question6\n",
    "import numpy as np\n",
    "array1=np.array([0,1,2])\n",
    "array2=np.array([2,1,0])\n",
    "cov_mat = np.stack((array1, array2), axis = 0)\n",
    " \n",
    "print(np.cov(cov_mat))\n",
    "\n",
    "\n"
   ]
  },
  {
   "cell_type": "code",
   "execution_count": 2,
   "metadata": {},
   "outputs": [
    {
     "name": "stdout",
     "output_type": "stream",
     "text": [
      "100,150,180\n",
      "18*22*24\n"
     ]
    }
   ],
   "source": [
    "#Question7\n",
    "C=50\n",
    "H=30\n",
    "import math\n",
    "inputs = input()\n",
    "input_list = inputs.split(\",\")\n",
    "output_list = []\n",
    "for i in input_list:\n",
    "  o = round(math.sqrt((2*C*int(i))/H))\n",
    "  output_list.append(str(o))\n",
    "\n",
    "print(\"*\".join(output_list))"
   ]
  }
 ],
 "metadata": {
  "kernelspec": {
   "display_name": "Python 3",
   "language": "python",
   "name": "python3"
  },
  "language_info": {
   "codemirror_mode": {
    "name": "ipython",
    "version": 3
   },
   "file_extension": ".py",
   "mimetype": "text/x-python",
   "name": "python",
   "nbconvert_exporter": "python",
   "pygments_lexer": "ipython3",
   "version": "3.8.5"
  }
 },
 "nbformat": 4,
 "nbformat_minor": 4
}
