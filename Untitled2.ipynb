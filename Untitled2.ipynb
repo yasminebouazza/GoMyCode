{
 "cells": [
  {
   "cell_type": "code",
   "execution_count": 3,
   "metadata": {},
   "outputs": [
    {
     "name": "stdout",
     "output_type": "stream",
     "text": [
      "x before transformation:  [[0.44, 0.68], [0.99, 0.23]]\n",
      "x after transformation:  [[1.     0.44   0.68   0.1936 0.2992 0.4624]\n",
      " [1.     0.99   0.23   0.9801 0.2277 0.0529]]\n"
     ]
    },
    {
     "data": {
      "text/plain": [
       "LinearRegression()"
      ]
     },
     "execution_count": 3,
     "metadata": {},
     "output_type": "execute_result"
    }
   ],
   "source": [
    "from sklearn.linear_model import LinearRegression\n",
    "from sklearn.preprocessing import PolynomialFeatures \n",
    "# create matrix and vectors\n",
    "x = [[0.44, 0.68], [0.99, 0.23]]\n",
    "y = [109.85, 155.72]\n",
    "\n",
    "lg = LinearRegression() \n",
    "poly = PolynomialFeatures(degree = 2)\n",
    "x_=poly.fit_transform(x)\n",
    "print(\"x before transformation: \", x)\n",
    "print(\"x after transformation: \", x_)\n",
    "lg.fit(x_, y) # Fitting Polynomial Regression to the dataset "
   ]
  }
 ],
 "metadata": {
  "kernelspec": {
   "display_name": "Python 3",
   "language": "python",
   "name": "python3"
  },
  "language_info": {
   "codemirror_mode": {
    "name": "ipython",
    "version": 3
   },
   "file_extension": ".py",
   "mimetype": "text/x-python",
   "name": "python",
   "nbconvert_exporter": "python",
   "pygments_lexer": "ipython3",
   "version": "3.8.5"
  }
 },
 "nbformat": 4,
 "nbformat_minor": 4
}
